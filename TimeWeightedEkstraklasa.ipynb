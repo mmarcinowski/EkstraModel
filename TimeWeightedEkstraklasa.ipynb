{
 "cells": [
  {
   "cell_type": "code",
   "execution_count": 1,
   "metadata": {},
   "outputs": [
    {
     "data": {
      "text/html": [
       "<script>\n",
       "code_show=true; \n",
       "function code_toggle() {\n",
       " if (code_show){\n",
       " $('div.input').hide();\n",
       " } else {\n",
       " $('div.input').show();\n",
       " }\n",
       " code_show = !code_show\n",
       "} \n",
       "$( document ).ready(code_toggle);\n",
       "</script>\n",
       "<a href=\"javascript:code_toggle()\">Wyświetl kod</a>"
      ],
      "text/plain": [
       "<IPython.core.display.HTML object>"
      ]
     },
     "execution_count": 1,
     "metadata": {},
     "output_type": "execute_result"
    }
   ],
   "source": [
    "from IPython.display import HTML\n",
    "HTML('''<script>\n",
    "code_show=true; \n",
    "function code_toggle() {\n",
    " if (code_show){\n",
    " $('div.input').hide();\n",
    " } else {\n",
    " $('div.input').show();\n",
    " }\n",
    " code_show = !code_show\n",
    "} \n",
    "$( document ).ready(code_toggle);\n",
    "</script>\n",
    "<a href=\"javascript:code_toggle()\">Wyświetl kod</a>''')"
   ]
  },
  {
   "cell_type": "code",
   "execution_count": 2,
   "metadata": {},
   "outputs": [],
   "source": [
    "import ipywidgets as widgets\n",
    "from ipywidgets import Layout\n",
    "\n",
    "style = {'description_width': 'initial'}"
   ]
  },
  {
   "cell_type": "code",
   "execution_count": 3,
   "metadata": {
    "scrolled": false
   },
   "outputs": [
    {
     "data": {
      "application/vnd.jupyter.widget-view+json": {
       "model_id": "c7bf4a195afb45a9a4e62ad252930eec",
       "version_major": 2,
       "version_minor": 0
      },
      "text/plain": [
       "FloatLogSlider(value=10000.0, description='Liczba symulacji', max=10.0, min=1.0, step=1.0, style=SliderStyle(d…"
      ]
     },
     "metadata": {},
     "output_type": "display_data"
    },
    {
     "data": {
      "application/vnd.jupyter.widget-view+json": {
       "model_id": "a83a7075d7fd4a11b686003a3312fa03",
       "version_major": 2,
       "version_minor": 0
      },
      "text/plain": [
       "BoundedIntText(value=1, description='Wybierz kolejkę:', max=30, min=1, style=DescriptionStyle(description_widt…"
      ]
     },
     "metadata": {},
     "output_type": "display_data"
    },
    {
     "data": {
      "application/vnd.jupyter.widget-view+json": {
       "model_id": "ec8ec3aac9ba4aac841b6db727689287",
       "version_major": 2,
       "version_minor": 0
      },
      "text/plain": [
       "Button(description='Zatwierdź', icon='check', style=ButtonStyle(), tooltip='Confirm')"
      ]
     },
     "metadata": {},
     "output_type": "display_data"
    },
    {
     "data": {
      "application/vnd.jupyter.widget-view+json": {
       "model_id": "4413a046764e40969b98783c98265d8f",
       "version_major": 2,
       "version_minor": 0
      },
      "text/plain": [
       "Output()"
      ]
     },
     "metadata": {},
     "output_type": "display_data"
    }
   ],
   "source": [
    "n = widgets.FloatLogSlider(value=10000, base=10, min=1, max=10, step=1, description='Liczba symulacji', style=style)\n",
    "kolejka = widgets.BoundedIntText(value=1, min=1, max=30, step=1, description='Wybierz kolejkę:', disabled=False, style=style)\n",
    "\n",
    "display(n)\n",
    "display(kolejka)\n",
    "\n",
    "button = widgets.Button(description='Zatwierdź',disabled=False,tooltip='Confirm',icon='check') \n",
    "output = widgets.Output()\n",
    "display(button,output)"
   ]
  },
  {
   "cell_type": "code",
   "execution_count": 4,
   "metadata": {},
   "outputs": [],
   "source": [
    "strzelone_dom = {\n",
    "    1: 13,    2: 8,    3: 13,    4: 9,    5: 12,    6: 14,    7: 8,    8: 10,    9: 11,    10: 15,\n",
    "    11: 9,    12: 15,    13: 8,    14: 10,    15: 6,    16: 12,    17: 7,    18: 12,    19: 8,    20: 9,\n",
    "    21: 12,    22: 10,    23: 12,    24: 10,    25: 8,    26: 16,    27: 8,    28: 0,    29: 0,    30: 0\n",
    "}"
   ]
  },
  {
   "cell_type": "code",
   "execution_count": 5,
   "metadata": {},
   "outputs": [],
   "source": [
    "strzelone_wyjazd = {\n",
    "    1: 9,    2: 15,    3: 10,    4: 14,    5: 13,    6: 11,    7: 14,    8: 6,    9: 8,    10: 10,\n",
    "    11: 10,    12: 6,    13: 16,    14: 9,    15: 10,    16: 4,    17: 5,    18: 7,    19: 14,    20: 5,\n",
    "    21: 7,    22: 8,    23: 8,    24: 5,    25: 11,    26: 10,    27: 5,    28: 0,    29: 0,    30: 0\n",
    "}"
   ]
  },
  {
   "cell_type": "code",
   "execution_count": 6,
   "metadata": {},
   "outputs": [],
   "source": [
    "mecze_liga = 26*8 + 7"
   ]
  },
  {
   "cell_type": "code",
   "execution_count": 7,
   "metadata": {},
   "outputs": [],
   "source": [
    "import pandas as pd\n",
    "import os\n",
    "\n",
    "def calculate_weighted_stats(w):\n",
    "    base = r'KolejkiEkstraklasa'\n",
    "    matchdays = []\n",
    "    for filename in os.listdir(base):\n",
    "        if int(filename)<w:\n",
    "            matchday = pd.read_csv(f\"{base}/{filename}\", header=None)\n",
    "            matchdays.append(matchday)\n",
    "    league = pd.concat(matchdays, ignore_index=True)\n",
    "    g = open(\"Statystyki/poissonstats-ekstraklasa\", \"r\", encoding='utf-8')\n",
    "    clubs = [x.strip().split(\",\")[0] for x in g]\n",
    "    \n",
    "    global home_attack_strength\n",
    "    global home_defence_strength\n",
    "    global away_attack_strength\n",
    "    global away_defence_strength\n",
    "    home_attack_strength = {}\n",
    "    home_defence_strength = {}\n",
    "    away_attack_strength = {}\n",
    "    away_defence_strength = {}\n",
    "    \n",
    "    global avg_strzelone_dom_liga\n",
    "    global avg_strzelone_wyjazd_liga\n",
    "    avg_strzelone_dom_liga = sum([k*v/(8*sum(range(1,w))) for k,v in strzelone_dom.items() if k<w])\n",
    "    avg_strzelone_wyjazd_liga = sum([k*v/(8*sum(range(1,w))) for k,v in strzelone_wyjazd.items() if k<w])\n",
    "    \n",
    "    for c in clubs:\n",
    "        weight = 1\n",
    "        weights_away = []\n",
    "        weights_home = []\n",
    "        has = 0\n",
    "        hds = 0\n",
    "        aas = 0\n",
    "        ads = 0\n",
    "        for index, row in league.iterrows():\n",
    "            home = row[0].split('-')[0]\n",
    "            away = row[0].split('-')[1]\n",
    "            if c==home:\n",
    "                has += int(row[1].split(':')[0])*weight\n",
    "                hds += int(row[1].split(':')[1])*weight\n",
    "                weights_home.append(weight)\n",
    "                weight = weight+1\n",
    "            if c==away:\n",
    "                aas += int(row[1].split(':')[1])*weight\n",
    "                ads += int(row[1].split(':')[0])*weight\n",
    "                weights_away.append(weight)\n",
    "                weight = weight+1\n",
    "        home_attack_strength[c] = has / (sum(weights_home)*avg_strzelone_dom_liga)\n",
    "        home_defence_strength[c] = hds / (sum(weights_home)*avg_strzelone_wyjazd_liga)\n",
    "        away_attack_strength[c] = aas / (sum(weights_away)*avg_strzelone_wyjazd_liga)\n",
    "        away_defence_strength[c] = ads / (sum(weights_away)*avg_strzelone_dom_liga)"
   ]
  },
  {
   "cell_type": "code",
   "execution_count": 8,
   "metadata": {},
   "outputs": [],
   "source": [
    "import numpy as np\n",
    "from collections import Counter\n",
    "from IPython.display import clear_output\n",
    "\n",
    "def display_matchday(a):\n",
    "    clear_output()\n",
    "    h = open(f\"KolejkiEkstraklasa/{str(a)}\", \"r\", encoding='utf-8')\n",
    "    \n",
    "    for x in h:\n",
    "        home_team = x.strip().split(\",\")[0].split(\"-\")[0]\n",
    "        away_team = x.strip().split(\",\")[0].split(\"-\")[1]\n",
    "        rng = np.random.default_rng()\n",
    "        results = []\n",
    "        home = home_attack_strength[home_team]*away_defence_strength[away_team]*avg_strzelone_dom_liga\n",
    "        away = home_defence_strength[home_team]*away_attack_strength[away_team]*avg_strzelone_wyjazd_liga\n",
    "        print(home_team, \"vs\", away_team)\n",
    "        print(\"Siła:\", home, away)\n",
    "        for i in range(0,int(n.value)):\n",
    "            results.append((rng.poisson(home, 1)[0],rng.poisson(away, 1)[0]))\n",
    "        print(\"Prawdopodobieństwo czystego konta gospodarza:\", sum(x[1]==0 for x in results)/n.value)\n",
    "        print(\"Prawdopodobieństwo czystego konta gościa:\", sum(x[0]==0 for x in results)/n.value)\n",
    "        \n",
    "        print(\"Najbardziej prawdopodobne wyniki:\\n\",Counter(results).most_common(7),\"\\n\\n\\n\")\n",
    "    h.close()"
   ]
  },
  {
   "cell_type": "code",
   "execution_count": 9,
   "metadata": {},
   "outputs": [],
   "source": [
    "def on_confirm_button_clicked(b):\n",
    "    calculate_weighted_stats(kolejka.value)\n",
    "    with output:\n",
    "        display_matchday(kolejka.value)\n",
    "    \n",
    "button.on_click(on_confirm_button_clicked)"
   ]
  },
  {
   "cell_type": "code",
   "execution_count": 11,
   "metadata": {},
   "outputs": [
    {
     "data": {
      "text/plain": [
       "[((0, 2), 1134),\n",
       " ((0, 3), 945),\n",
       " ((1, 2), 891),\n",
       " ((0, 1), 888),\n",
       " ((1, 3), 842),\n",
       " ((1, 1), 700),\n",
       " ((0, 4), 644),\n",
       " ((1, 4), 508),\n",
       " ((2, 2), 349),\n",
       " ((0, 5), 343),\n",
       " ((0, 0), 341),\n",
       " ((2, 3), 302),\n",
       " ((1, 0), 262),\n",
       " ((2, 1), 257),\n",
       " ((1, 5), 252),\n",
       " ((2, 4), 224),\n",
       " ((0, 6), 132),\n",
       " ((1, 6), 127),\n",
       " ((2, 5), 118),\n",
       " ((2, 0), 105),\n",
       " ((3, 2), 89),\n",
       " ((3, 3), 87),\n",
       " ((0, 7), 63),\n",
       " ((3, 1), 61),\n",
       " ((1, 7), 47),\n",
       " ((3, 4), 34),\n",
       " ((2, 6), 34),\n",
       " ((3, 0), 31),\n",
       " ((3, 5), 29),\n",
       " ((4, 3), 23),\n",
       " ((4, 2), 18),\n",
       " ((4, 1), 18),\n",
       " ((3, 6), 15),\n",
       " ((1, 8), 11),\n",
       " ((0, 8), 9)]"
      ]
     },
     "execution_count": 11,
     "metadata": {},
     "output_type": "execute_result"
    }
   ],
   "source": [
    "home = home_attack_strength[\"Podbeskidzie\"]*away_defence_strength[\"Wisła\"]*avg_strzelone_dom_liga\n",
    "away = home_defence_strength[\"Podbeskidzie\"]*away_attack_strength[\"Wisła\"]*avg_strzelone_wyjazd_liga\n",
    "results = []\n",
    "rng = np.random.default_rng()\n",
    "for i in range(0,int(n.value)):\n",
    "    results.append((rng.poisson(home, 1)[0],rng.poisson(away, 1)[0]))\n",
    "Counter(results).most_common(35)"
   ]
  },
  {
   "cell_type": "code",
   "execution_count": null,
   "metadata": {},
   "outputs": [],
   "source": []
  }
 ],
 "metadata": {
  "kernelspec": {
   "display_name": "Python 3",
   "language": "python",
   "name": "python3"
  },
  "language_info": {
   "codemirror_mode": {
    "name": "ipython",
    "version": 3
   },
   "file_extension": ".py",
   "mimetype": "text/x-python",
   "name": "python",
   "nbconvert_exporter": "python",
   "pygments_lexer": "ipython3",
   "version": "3.6.13"
  }
 },
 "nbformat": 4,
 "nbformat_minor": 4
}
