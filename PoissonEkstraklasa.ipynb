{
 "cells": [
  {
   "cell_type": "markdown",
   "metadata": {},
   "source": [
    "# EkstraModel"
   ]
  },
  {
   "cell_type": "code",
   "execution_count": 71,
   "metadata": {},
   "outputs": [
    {
     "data": {
      "text/html": [
       "<script>\n",
       "code_show=true; \n",
       "function code_toggle() {\n",
       " if (code_show){\n",
       " $('div.input').hide();\n",
       " } else {\n",
       " $('div.input').show();\n",
       " }\n",
       " code_show = !code_show\n",
       "} \n",
       "$( document ).ready(code_toggle);\n",
       "</script>\n",
       "<a href=\"javascript:code_toggle()\">Wyświetl kod</a>"
      ],
      "text/plain": [
       "<IPython.core.display.HTML object>"
      ]
     },
     "execution_count": 71,
     "metadata": {},
     "output_type": "execute_result"
    }
   ],
   "source": [
    "from IPython.display import HTML\n",
    "HTML('''<script>\n",
    "code_show=true; \n",
    "function code_toggle() {\n",
    " if (code_show){\n",
    " $('div.input').hide();\n",
    " } else {\n",
    " $('div.input').show();\n",
    " }\n",
    " code_show = !code_show\n",
    "} \n",
    "$( document ).ready(code_toggle);\n",
    "</script>\n",
    "<a href=\"javascript:code_toggle()\">Wyświetl kod</a>''')"
   ]
  },
  {
   "cell_type": "code",
   "execution_count": 72,
   "metadata": {},
   "outputs": [],
   "source": [
    "import ipywidgets as widgets\n",
    "from ipywidgets import Layout\n",
    "\n",
    "style = {'description_width': 'initial'}\n",
    "\n",
    "pbb_strzelone_dom = widgets.FloatSlider(value=1.10, min=0.35, max=2,step=0.05,description='Mnożnik strzelonych u siebie bramek przez Podbeskidzie',disabled=False, style=style, layout=Layout(min_width='50%'))\n",
    "stal_strzelone_dom = widgets.FloatSlider(value=0.85, min=0.35, max=2,step=0.05,description='Mnożnik strzelonych u siebie bramek przez Stal',disabled=False, style=style, layout=Layout(min_width='50%'))\n",
    "warta_strzelone_dom = widgets.FloatSlider(value=0.7, min=0.35, max=2,step=0.05,description='Mnożnik strzelonych u siebie bramek przez Wartę',disabled=False, style=style, layout=Layout(min_width='50%'))\n",
    "\n",
    "pbb_strzelone_wyjazd = widgets.FloatSlider(value=0.90, min=0.35, max=2,step=0.05,description='Mnożnik strzelonych na wyjeździe bramek przez Podbeskidzie',disabled=False, style=style, layout=Layout(min_width='50%'))\n",
    "stal_strzelone_wyjazd = widgets.FloatSlider(value=0.90, min=0.35, max=2,step=0.05,description='Mnożnik strzelonych na wyjeździe bramek przez Stal',disabled=False, style=style, layout=Layout(min_width='50%'))\n",
    "warta_strzelone_wyjazd = widgets.FloatSlider(value=0.90, min=0.35, max=2,step=0.05,description='Mnożnik strzelonych na wyjeździe bramek przez Wartę',disabled=False, style=style, layout=Layout(min_width='50%'))\n",
    "\n",
    "pbb_stracone_dom = widgets.FloatSlider(value=2.8, min=0.5, max=3.5,step=0.05, description='Mnożnik straconych u siebie bramek przez Podbeskidzie',disabled=False, style=style, layout=Layout(min_width='50%'))\n",
    "stal_stracone_dom = widgets.FloatSlider(value=2.8, min=0.5, max=3.5,step=0.05,description='Mnożnik straconych u siebie bramek przez Stal',disabled=False, style=style, layout=Layout(min_width='50%'))\n",
    "warta_stracone_dom = widgets.FloatSlider(value=2.8, min=0.5, max=3.5,step=0.05,description='Mnożnik straconych u siebie bramek przez Wartę',disabled=False, style=style, layout=Layout(min_width='50%'))\n",
    "\n",
    "pbb_stracone_wyjazd = widgets.FloatSlider(value=2.15, min=0.5, max=3.5,step=0.05,description='Mnożnik straconych na wyjeździe bramek przez Podbeskidzie',disabled=False, style=style, layout=Layout(min_width='50%'))\n",
    "stal_stracone_wyjazd = widgets.FloatSlider(value=2.15, min=0.5, max=3.5,step=0.05,description='Mnożnik straconych na wyjeździe bramek przez Stal',disabled=False, style=style, layout=Layout(min_width='50%'))\n",
    "warta_stracone_wyjazd = widgets.FloatSlider(value=2.15, min=0.5, max=3.5,step=0.05,description='Mnożnik straconych na wyjeździe bramek przez Wartę',disabled=False, style=style, layout=Layout(min_width='50%'))"
   ]
  },
  {
   "cell_type": "code",
   "execution_count": 73,
   "metadata": {
    "scrolled": false
   },
   "outputs": [
    {
     "data": {
      "application/vnd.jupyter.widget-view+json": {
       "model_id": "d533738999f54c49b7bca330fc334595",
       "version_major": 2,
       "version_minor": 0
      },
      "text/plain": [
       "FloatLogSlider(value=10000.0, description='Liczba symulacji', max=10.0, min=1.0, step=1.0, style=SliderStyle(d…"
      ]
     },
     "metadata": {},
     "output_type": "display_data"
    },
    {
     "data": {
      "application/vnd.jupyter.widget-view+json": {
       "model_id": "9d61ea6e193a4680824cafae7bf482c9",
       "version_major": 2,
       "version_minor": 0
      },
      "text/plain": [
       "BoundedIntText(value=1, description='Wybierz kolejkę:', max=30, min=1, style=DescriptionStyle(description_widt…"
      ]
     },
     "metadata": {},
     "output_type": "display_data"
    },
    {
     "data": {
      "application/vnd.jupyter.widget-view+json": {
       "model_id": "2d7db6bea9f0408f966da99aaffb3e09",
       "version_major": 2,
       "version_minor": 0
      },
      "text/plain": [
       "FloatSlider(value=1.1, description='Mnożnik strzelonych u siebie bramek przez Podbeskidzie', layout=Layout(min…"
      ]
     },
     "metadata": {},
     "output_type": "display_data"
    },
    {
     "data": {
      "application/vnd.jupyter.widget-view+json": {
       "model_id": "74162e8a8ea543eda3b1ae10e3e08620",
       "version_major": 2,
       "version_minor": 0
      },
      "text/plain": [
       "FloatSlider(value=0.85, description='Mnożnik strzelonych u siebie bramek przez Stal', layout=Layout(min_width=…"
      ]
     },
     "metadata": {},
     "output_type": "display_data"
    },
    {
     "data": {
      "application/vnd.jupyter.widget-view+json": {
       "model_id": "65b44897ac4f4790a8fe1beb38911cad",
       "version_major": 2,
       "version_minor": 0
      },
      "text/plain": [
       "FloatSlider(value=0.7, description='Mnożnik strzelonych u siebie bramek przez Wartę', layout=Layout(min_width=…"
      ]
     },
     "metadata": {},
     "output_type": "display_data"
    },
    {
     "data": {
      "application/vnd.jupyter.widget-view+json": {
       "model_id": "e8ee2c26ffc34bb3b2c9e875136e02fe",
       "version_major": 2,
       "version_minor": 0
      },
      "text/plain": [
       "FloatSlider(value=0.9, description='Mnożnik strzelonych na wyjeździe bramek przez Podbeskidzie', layout=Layout…"
      ]
     },
     "metadata": {},
     "output_type": "display_data"
    },
    {
     "data": {
      "application/vnd.jupyter.widget-view+json": {
       "model_id": "12bee7874838496eb2f12a86fbaf56b4",
       "version_major": 2,
       "version_minor": 0
      },
      "text/plain": [
       "FloatSlider(value=0.9, description='Mnożnik strzelonych na wyjeździe bramek przez Stal', layout=Layout(min_wid…"
      ]
     },
     "metadata": {},
     "output_type": "display_data"
    },
    {
     "data": {
      "application/vnd.jupyter.widget-view+json": {
       "model_id": "c2abe3dff3cd4877960105988c78741b",
       "version_major": 2,
       "version_minor": 0
      },
      "text/plain": [
       "FloatSlider(value=0.9, description='Mnożnik strzelonych na wyjeździe bramek przez Wartę', layout=Layout(min_wi…"
      ]
     },
     "metadata": {},
     "output_type": "display_data"
    },
    {
     "data": {
      "application/vnd.jupyter.widget-view+json": {
       "model_id": "a481916e3615420893af203cbe7e8d44",
       "version_major": 2,
       "version_minor": 0
      },
      "text/plain": [
       "FloatSlider(value=2.8, description='Mnożnik straconych u siebie bramek przez Podbeskidzie', layout=Layout(min_…"
      ]
     },
     "metadata": {},
     "output_type": "display_data"
    },
    {
     "data": {
      "application/vnd.jupyter.widget-view+json": {
       "model_id": "7a4562513c904636958959546c1de81f",
       "version_major": 2,
       "version_minor": 0
      },
      "text/plain": [
       "FloatSlider(value=2.8, description='Mnożnik straconych u siebie bramek przez Stal', layout=Layout(min_width='5…"
      ]
     },
     "metadata": {},
     "output_type": "display_data"
    },
    {
     "data": {
      "application/vnd.jupyter.widget-view+json": {
       "model_id": "4dae6603212344ec980fbc3dd447e89d",
       "version_major": 2,
       "version_minor": 0
      },
      "text/plain": [
       "FloatSlider(value=2.8, description='Mnożnik straconych u siebie bramek przez Wartę', layout=Layout(min_width='…"
      ]
     },
     "metadata": {},
     "output_type": "display_data"
    },
    {
     "data": {
      "application/vnd.jupyter.widget-view+json": {
       "model_id": "bdc3930fe8824e8a8a784d7be21bbf0a",
       "version_major": 2,
       "version_minor": 0
      },
      "text/plain": [
       "FloatSlider(value=2.15, description='Mnożnik straconych na wyjeździe bramek przez Podbeskidzie', layout=Layout…"
      ]
     },
     "metadata": {},
     "output_type": "display_data"
    },
    {
     "data": {
      "application/vnd.jupyter.widget-view+json": {
       "model_id": "1838d44ff28c4b32a0b7e7caeb1d6c96",
       "version_major": 2,
       "version_minor": 0
      },
      "text/plain": [
       "FloatSlider(value=2.15, description='Mnożnik straconych na wyjeździe bramek przez Stal', layout=Layout(min_wid…"
      ]
     },
     "metadata": {},
     "output_type": "display_data"
    },
    {
     "data": {
      "application/vnd.jupyter.widget-view+json": {
       "model_id": "cd8e8785d05f4397940027224e41d678",
       "version_major": 2,
       "version_minor": 0
      },
      "text/plain": [
       "FloatSlider(value=2.15, description='Mnożnik straconych na wyjeździe bramek przez Wartę', layout=Layout(min_wi…"
      ]
     },
     "metadata": {},
     "output_type": "display_data"
    },
    {
     "data": {
      "application/vnd.jupyter.widget-view+json": {
       "model_id": "2aeff4c7000a4b01a1646e1e9ee32af1",
       "version_major": 2,
       "version_minor": 0
      },
      "text/plain": [
       "Button(description='Zatwierdź', icon='check', style=ButtonStyle(), tooltip='Confirm')"
      ]
     },
     "metadata": {},
     "output_type": "display_data"
    },
    {
     "data": {
      "application/vnd.jupyter.widget-view+json": {
       "model_id": "5cffbaea16be43d7935f89ba0ed9beb0",
       "version_major": 2,
       "version_minor": 0
      },
      "text/plain": [
       "Output()"
      ]
     },
     "metadata": {},
     "output_type": "display_data"
    }
   ],
   "source": [
    "n = widgets.FloatLogSlider(value=10000, base=10, min=1, max=10, step=1, description='Liczba symulacji', style=style)\n",
    "kolejka = widgets.BoundedIntText(value=1, min=1, max=30, step=1, description='Wybierz kolejkę:', disabled=False, style=style)\n",
    "\n",
    "display(n)\n",
    "display(kolejka)\n",
    "\n",
    "display(pbb_strzelone_dom)\n",
    "display(stal_strzelone_dom)\n",
    "display(warta_strzelone_dom)\n",
    "display(pbb_strzelone_wyjazd)\n",
    "display(stal_strzelone_wyjazd)\n",
    "display(warta_strzelone_wyjazd)\n",
    "display(pbb_stracone_dom)\n",
    "display(stal_stracone_dom)\n",
    "display(warta_stracone_dom)\n",
    "display(pbb_stracone_wyjazd)\n",
    "display(stal_stracone_wyjazd)\n",
    "display(warta_stracone_wyjazd)\n",
    "\n",
    "button = widgets.Button(description='Zatwierdź',disabled=False,tooltip='Confirm',icon='check') \n",
    "output = widgets.Output()\n",
    "display(button,output)"
   ]
  },
  {
   "cell_type": "code",
   "execution_count": 74,
   "metadata": {},
   "outputs": [],
   "source": [
    "mecze_liga = 8*19+8*18\n",
    "avg_strzelone_dom_liga = (48+25+36+40+30+37+26+36+27+25+25+20+18+21+14+21)/mecze_liga\n",
    "avg_strzelone_wyjazd_liga = (30+28+22+19+23+16+18+25+23+14+19+21+15+18+15+12)/mecze_liga"
   ]
  },
  {
   "cell_type": "code",
   "execution_count": 75,
   "metadata": {},
   "outputs": [],
   "source": [
    "def initialize():\n",
    "    global avg_strzelone_dom\n",
    "    global avg_strzelone_wyjazd\n",
    "    global avg_stracone_dom\n",
    "    global avg_stracone_wyjazd\n",
    "    \n",
    "    avg_strzelone_dom ={\n",
    "    'Legia': 2.53,\n",
    "    'Lech': 2.11,\n",
    "    'Piast': 1.32,\n",
    "    'Górnik': 1.89,\n",
    "    'Zagłębie': 1.89,\n",
    "    'Cracovia': 1.44,\n",
    "    'Lechia': 1.11,\n",
    "    'Stal': 1.65*stal_strzelone_dom.value,\n",
    "    'Podbeskidzie': 2.47*pbb_strzelone_dom.value,\n",
    "    'Płock': 1.42,\n",
    "    'Wisła': 1.39,\n",
    "    'Warta': 1.71*warta_strzelone_dom.value,\n",
    "    'Jagiellonia': 1.39,\n",
    "    'Pogoń': 1.00,\n",
    "    'Raków': 1.58,\n",
    "    'Śląsk': 1.95\n",
    "    }\n",
    "    avg_strzelone_wyjazd ={\n",
    "    'Legia': 1.22,\n",
    "    'Lech': 1.67,\n",
    "    'Piast': 0.89,\n",
    "    'Górnik': 0.83,\n",
    "    'Zagłębie': 1.39,\n",
    "    'Cracovia': 1.21,\n",
    "    'Lechia': 1.47,\n",
    "    'Stal': 1.71*stal_strzelone_wyjazd.value,\n",
    "    'Podbeskidzie': 1.29*pbb_strzelone_wyjazd.value,\n",
    "    'Płock': 1.00,\n",
    "    'Wisła': 1.00,\n",
    "    'Warta': 1.35*warta_strzelone_wyjazd.value,\n",
    "    'Jagiellonia': 1.21,\n",
    "    'Pogoń': 1.00,\n",
    "    'Raków': 1.17,\n",
    "    'Śląsk': 0.78\n",
    "    }\n",
    "    avg_stracone_dom ={\n",
    "    'Legia': 0.84,\n",
    "    'Lech': 0.74,\n",
    "    'Piast': 0.63,\n",
    "    'Górnik': 1.05,\n",
    "    'Zagłębie': 1.26,\n",
    "    'Cracovia': 0.89,\n",
    "    'Lechia': 1.22,\n",
    "    'Stal': 0.76*stal_stracone_dom.value,\n",
    "    'Podbeskidzie': 1.06*pbb_stracone_dom.value,\n",
    "    'Płock': 1.21,\n",
    "    'Wisła': 1.00,\n",
    "    'Warta': 1.12*warta_stracone_dom.value,\n",
    "    'Jagiellonia': 1.00,\n",
    "    'Pogoń': 0.94,\n",
    "    'Raków': 1.16,\n",
    "    'Śląsk': 1.47\n",
    "    }\n",
    "    avg_stracone_wyjazd ={\n",
    "    'Legia': 1.06,\n",
    "    'Lech': 1.17,\n",
    "    'Piast': 1.11,\n",
    "    'Górnik': 1.50,\n",
    "    'Zagłębie': 1.61,\n",
    "    'Cracovia': 1.26,\n",
    "    'Lechia': 1.47,\n",
    "    'Stal': 1.06*stal_stracone_wyjazd.value,\n",
    "    'Podbeskidzie': 1.00*pbb_stracone_wyjazd.value,\n",
    "    'Płock': 1.72,\n",
    "    'Wisła': 2.00,\n",
    "    'Warta': 0.94*warta_stracone_wyjazd.value,\n",
    "    'Jagiellonia': 1.74,\n",
    "    'Pogoń': 1.16,\n",
    "    'Raków': 1.89,\n",
    "    'Śląsk': 1.00\n",
    "    }\n",
    "\n",
    "    global home_attack_strength\n",
    "    home_attack_strength = {}\n",
    "    global home_defence_strength\n",
    "    home_defence_strength = {}\n",
    "    global away_attack_strength\n",
    "    away_attack_strength = {}\n",
    "    global away_defence_strength\n",
    "    away_defence_strength = {}\n",
    "\n",
    "    for k in avg_strzelone_dom.keys():\n",
    "        home_attack_strength[k] = avg_strzelone_dom[k]/avg_strzelone_dom_liga\n",
    "        home_defence_strength[k] = avg_stracone_dom[k]/avg_strzelone_wyjazd_liga\n",
    "        away_attack_strength[k] = avg_strzelone_wyjazd[k]/avg_strzelone_wyjazd_liga\n",
    "        away_defence_strength[k] = avg_stracone_wyjazd[k]/avg_strzelone_dom_liga\n",
    "        \n",
    "    #print(avg_strzelone_dom.keys())\n",
    "    #print(home_attack_strength)\n",
    "    #print(home_defence_strength)\n",
    "    #print(away_attack_strength)\n",
    "    #print(away_defence_strength)"
   ]
  },
  {
   "cell_type": "code",
   "execution_count": 76,
   "metadata": {},
   "outputs": [],
   "source": [
    "import numpy as np\n",
    "from collections import Counter\n",
    "from IPython.display import clear_output\n",
    "\n",
    "def display_matchday(a):\n",
    "    clear_output()\n",
    "    f = open(\"Kolejki/\"+str(a), \"r\", encoding='utf-8')\n",
    "    for x in f:\n",
    "        home_team = x.strip().split(\"-\")[0]\n",
    "        away_team = x.strip().split(\"-\")[1]\n",
    "        rng = np.random.default_rng()\n",
    "        results = []\n",
    "        home = home_attack_strength[home_team]*away_defence_strength[away_team]*avg_strzelone_dom_liga\n",
    "        away = home_defence_strength[home_team]*away_attack_strength[away_team]*avg_strzelone_wyjazd_liga\n",
    "        print(home_team, \"vs\", away_team)\n",
    "        print(\"Siła:\", home, away)\n",
    "        for i in range(0,int(n.value)):\n",
    "            results.append((rng.poisson(home, 1)[0],rng.poisson(away, 1)[0]))\n",
    "        print(\"Prawdopodobieństwo czystego konta gospodarza:\", sum(x[1]==0 for x in results)/n.value)\n",
    "        print(\"Prawdopodobieństwo czystego konta gościa:\", sum(x[0]==0 for x in results)/n.value)\n",
    "        \n",
    "        print(\"Najbardziej prawdopodobne wyniki:\\n\",Counter(results).most_common(7),\"\\n\\n\\n\")\n",
    "    f.close()"
   ]
  },
  {
   "cell_type": "code",
   "execution_count": 77,
   "metadata": {},
   "outputs": [],
   "source": [
    "def on_confirm_button_clicked(b):\n",
    "    initialize()\n",
    "    with output:\n",
    "        display_matchday(kolejka.value)\n",
    "    \n",
    "button.on_click(on_confirm_button_clicked)"
   ]
  }
 ],
 "metadata": {
  "kernelspec": {
   "display_name": "Python 3",
   "language": "python",
   "name": "python3"
  },
  "language_info": {
   "codemirror_mode": {
    "name": "ipython",
    "version": 3
   },
   "file_extension": ".py",
   "mimetype": "text/x-python",
   "name": "python",
   "nbconvert_exporter": "python",
   "pygments_lexer": "ipython3",
   "version": "3.7.5"
  },
  "widgets": {
   "application/vnd.jupyter.widget-state+json": {
    "state": {
     "091480b32c7544cf9a4279e50e96bd14": {
      "model_module": "@jupyter-widgets/controls",
      "model_module_version": "1.5.0",
      "model_name": "FloatSliderModel",
      "state": {
       "description": "Mnożnik strzelonych u siebie bramek przez Wartę",
       "layout": "IPY_MODEL_88a42835e6324a4094a70caf0b487ea1",
       "max": 2,
       "min": 0.35,
       "step": 0.05,
       "style": "IPY_MODEL_ecc3eb4a3373434493c2ab5481e29ff8",
       "value": 0.7
      }
     },
     "0bed063ae5a44489a6a39c8a3bc7ff9a": {
      "model_module": "@jupyter-widgets/base",
      "model_module_version": "1.2.0",
      "model_name": "LayoutModel",
      "state": {
       "min_width": "50%"
      }
     },
     "0cd14f54310c41da8ed4781f4233e7c7": {
      "model_module": "@jupyter-widgets/base",
      "model_module_version": "1.2.0",
      "model_name": "LayoutModel",
      "state": {
       "min_width": "50%"
      }
     },
     "1773a79454464ec8993aaf3de8b2fb54": {
      "model_module": "@jupyter-widgets/controls",
      "model_module_version": "1.5.0",
      "model_name": "FloatSliderModel",
      "state": {
       "description": "Mnożnik straconych u siebie bramek przez Wartę",
       "layout": "IPY_MODEL_93a66cbb46404ed3a530a98e959051d6",
       "max": 3.5,
       "min": 0.5,
       "step": 0.05,
       "style": "IPY_MODEL_f79900d8287d4952aff0590b0dc046c5",
       "value": 2.8
      }
     },
     "1a2c3d24b8d646549f612a61955a926a": {
      "model_module": "@jupyter-widgets/controls",
      "model_module_version": "1.5.0",
      "model_name": "ButtonModel",
      "state": {
       "description": "Zatwierdź",
       "icon": "check",
       "layout": "IPY_MODEL_3a5776f13cb84a5588d6b1ff65ab0549",
       "style": "IPY_MODEL_a221dd67a89b4d9fa1479b5874b1a0e9",
       "tooltip": "Confirm"
      }
     },
     "1c4714856e2d40fd928125599d6a0642": {
      "model_module": "@jupyter-widgets/controls",
      "model_module_version": "1.5.0",
      "model_name": "FloatSliderModel",
      "state": {
       "description": "Mnożnik straconych na wyjeździe bramek przez Wartę",
       "layout": "IPY_MODEL_0bed063ae5a44489a6a39c8a3bc7ff9a",
       "max": 3.5,
       "min": 0.5,
       "step": 0.05,
       "style": "IPY_MODEL_1cdc3041208c43ed85cc9152a2257b8e",
       "value": 2.15
      }
     },
     "1cdc3041208c43ed85cc9152a2257b8e": {
      "model_module": "@jupyter-widgets/controls",
      "model_module_version": "1.5.0",
      "model_name": "SliderStyleModel",
      "state": {
       "description_width": "initial"
      }
     },
     "2846506364404b53afcade5363e30519": {
      "model_module": "@jupyter-widgets/base",
      "model_module_version": "1.2.0",
      "model_name": "LayoutModel",
      "state": {
       "min_width": "50%"
      }
     },
     "2e5af3cc70734ec5beacc265e24df46a": {
      "model_module": "@jupyter-widgets/base",
      "model_module_version": "1.2.0",
      "model_name": "LayoutModel",
      "state": {}
     },
     "2f09f27402e14ffebbb180b78ffd4c0c": {
      "model_module": "@jupyter-widgets/base",
      "model_module_version": "1.2.0",
      "model_name": "LayoutModel",
      "state": {
       "min_width": "50%"
      }
     },
     "30a96c514dc54a8284b98eb324c270f0": {
      "model_module": "@jupyter-widgets/controls",
      "model_module_version": "1.5.0",
      "model_name": "SliderStyleModel",
      "state": {
       "description_width": "initial"
      }
     },
     "3212de7297a64975a8bde0dee389f937": {
      "model_module": "@jupyter-widgets/base",
      "model_module_version": "1.2.0",
      "model_name": "LayoutModel",
      "state": {
       "min_width": "50%"
      }
     },
     "350bcc1f71bf43b591fb2936524f3adb": {
      "model_module": "@jupyter-widgets/controls",
      "model_module_version": "1.5.0",
      "model_name": "SliderStyleModel",
      "state": {
       "description_width": "initial"
      }
     },
     "35961d515579461f892dd8a7d2973a85": {
      "model_module": "@jupyter-widgets/controls",
      "model_module_version": "1.5.0",
      "model_name": "DescriptionStyleModel",
      "state": {
       "description_width": "initial"
      }
     },
     "3a5776f13cb84a5588d6b1ff65ab0549": {
      "model_module": "@jupyter-widgets/base",
      "model_module_version": "1.2.0",
      "model_name": "LayoutModel",
      "state": {}
     },
     "41392b5fc1904f8e999ded3a9772771b": {
      "model_module": "@jupyter-widgets/controls",
      "model_module_version": "1.5.0",
      "model_name": "BoundedIntTextModel",
      "state": {
       "description": "Wybierz kolejkę:",
       "layout": "IPY_MODEL_94c39e0385ac4115b9f6b23d22700d45",
       "max": 30,
       "min": 1,
       "style": "IPY_MODEL_35961d515579461f892dd8a7d2973a85",
       "value": 1
      }
     },
     "41ddbc5eedc84a65805204e53431ed48": {
      "model_module": "@jupyter-widgets/controls",
      "model_module_version": "1.5.0",
      "model_name": "SliderStyleModel",
      "state": {
       "description_width": "initial"
      }
     },
     "51182df5959147b0b2a086f0bf8e5c2d": {
      "model_module": "@jupyter-widgets/controls",
      "model_module_version": "1.5.0",
      "model_name": "SliderStyleModel",
      "state": {
       "description_width": "initial"
      }
     },
     "55a72a8911664b19aef19df50dba27a6": {
      "model_module": "@jupyter-widgets/controls",
      "model_module_version": "1.5.0",
      "model_name": "SliderStyleModel",
      "state": {
       "description_width": "initial"
      }
     },
     "5de66e31503548e9bd7f6d1165d11f8a": {
      "model_module": "@jupyter-widgets/base",
      "model_module_version": "1.2.0",
      "model_name": "LayoutModel",
      "state": {}
     },
     "5e308ace602046f29e1ba511bafeef11": {
      "model_module": "@jupyter-widgets/controls",
      "model_module_version": "1.5.0",
      "model_name": "FloatSliderModel",
      "state": {
       "description": "Mnożnik strzelonych na wyjeździe bramek przez Stal",
       "layout": "IPY_MODEL_e85fd9599e174a468e7f7ea146d8e882",
       "max": 2,
       "min": 0.35,
       "step": 0.05,
       "style": "IPY_MODEL_55a72a8911664b19aef19df50dba27a6",
       "value": 0.9
      }
     },
     "643b04e963da4e0f9d6e75094597c5ca": {
      "model_module": "@jupyter-widgets/controls",
      "model_module_version": "1.5.0",
      "model_name": "FloatSliderModel",
      "state": {
       "description": "Mnożnik strzelonych u siebie bramek przez Stal",
       "layout": "IPY_MODEL_0cd14f54310c41da8ed4781f4233e7c7",
       "max": 2,
       "min": 0.35,
       "step": 0.05,
       "style": "IPY_MODEL_51182df5959147b0b2a086f0bf8e5c2d",
       "value": 0.85
      }
     },
     "6776d6bc2f494e20a117de366030bd15": {
      "model_module": "@jupyter-widgets/base",
      "model_module_version": "1.2.0",
      "model_name": "LayoutModel",
      "state": {
       "min_width": "50%"
      }
     },
     "6a49b7ed13744483a6371acb3e646b01": {
      "model_module": "@jupyter-widgets/controls",
      "model_module_version": "1.5.0",
      "model_name": "FloatSliderModel",
      "state": {
       "description": "Mnożnik straconych na wyjeździe bramek przez Stal",
       "layout": "IPY_MODEL_3212de7297a64975a8bde0dee389f937",
       "max": 3.5,
       "min": 0.5,
       "step": 0.05,
       "style": "IPY_MODEL_729ff30ef0b744618dfea38af1430951",
       "value": 2.15
      }
     },
     "729ff30ef0b744618dfea38af1430951": {
      "model_module": "@jupyter-widgets/controls",
      "model_module_version": "1.5.0",
      "model_name": "SliderStyleModel",
      "state": {
       "description_width": "initial"
      }
     },
     "7a181419d4654e9798ca28dfad52b323": {
      "model_module": "@jupyter-widgets/controls",
      "model_module_version": "1.5.0",
      "model_name": "FloatLogSliderModel",
      "state": {
       "description": "Liczba symulacji",
       "layout": "IPY_MODEL_5de66e31503548e9bd7f6d1165d11f8a",
       "max": 10,
       "min": 1,
       "step": 1,
       "style": "IPY_MODEL_41ddbc5eedc84a65805204e53431ed48",
       "value": 10000
      }
     },
     "88a42835e6324a4094a70caf0b487ea1": {
      "model_module": "@jupyter-widgets/base",
      "model_module_version": "1.2.0",
      "model_name": "LayoutModel",
      "state": {
       "min_width": "50%"
      }
     },
     "93a66cbb46404ed3a530a98e959051d6": {
      "model_module": "@jupyter-widgets/base",
      "model_module_version": "1.2.0",
      "model_name": "LayoutModel",
      "state": {
       "min_width": "50%"
      }
     },
     "94c39e0385ac4115b9f6b23d22700d45": {
      "model_module": "@jupyter-widgets/base",
      "model_module_version": "1.2.0",
      "model_name": "LayoutModel",
      "state": {}
     },
     "a221dd67a89b4d9fa1479b5874b1a0e9": {
      "model_module": "@jupyter-widgets/controls",
      "model_module_version": "1.5.0",
      "model_name": "ButtonStyleModel",
      "state": {}
     },
     "a6988fc2b92943cf9de93430fa283ff4": {
      "model_module": "@jupyter-widgets/controls",
      "model_module_version": "1.5.0",
      "model_name": "FloatSliderModel",
      "state": {
       "description": "Mnożnik strzelonych na wyjeździe bramek przez Wartę",
       "layout": "IPY_MODEL_2846506364404b53afcade5363e30519",
       "max": 2,
       "min": 0.35,
       "step": 0.05,
       "style": "IPY_MODEL_f80c17783100491580679b0397299014",
       "value": 0.9
      }
     },
     "b172e671fb414802a015346577fe7e5c": {
      "model_module": "@jupyter-widgets/controls",
      "model_module_version": "1.5.0",
      "model_name": "FloatSliderModel",
      "state": {
       "description": "Mnożnik strzelonych na wyjeździe bramek przez Podbeskidzie",
       "layout": "IPY_MODEL_2f09f27402e14ffebbb180b78ffd4c0c",
       "max": 2,
       "min": 0.35,
       "step": 0.05,
       "style": "IPY_MODEL_f2e237ec80424174b19ff258ada1106a",
       "value": 0.9
      }
     },
     "b765f16f8943493c88ef63a9786c7446": {
      "model_module": "@jupyter-widgets/controls",
      "model_module_version": "1.5.0",
      "model_name": "FloatSliderModel",
      "state": {
       "description": "Mnożnik strzelonych u siebie bramek przez Podbeskidzie",
       "layout": "IPY_MODEL_eb322b0e89a9479f8f170a861e7fbc68",
       "max": 2,
       "min": 0.35,
       "step": 0.05,
       "style": "IPY_MODEL_30a96c514dc54a8284b98eb324c270f0",
       "value": 1.1
      }
     },
     "bbfafab2acae4884b9543d7c9a7c4dec": {
      "model_module": "@jupyter-widgets/output",
      "model_module_version": "1.0.0",
      "model_name": "OutputModel",
      "state": {
       "layout": "IPY_MODEL_2e5af3cc70734ec5beacc265e24df46a"
      }
     },
     "cae7d0521f0e48b8b3906e942dffe9dd": {
      "model_module": "@jupyter-widgets/controls",
      "model_module_version": "1.5.0",
      "model_name": "SliderStyleModel",
      "state": {
       "description_width": "initial"
      }
     },
     "cb03f1639de041f2b558f99f739a7470": {
      "model_module": "@jupyter-widgets/controls",
      "model_module_version": "1.5.0",
      "model_name": "FloatSliderModel",
      "state": {
       "description": "Mnożnik straconych na wyjeździe bramek przez Podbeskidzie",
       "layout": "IPY_MODEL_6776d6bc2f494e20a117de366030bd15",
       "max": 3.5,
       "min": 0.5,
       "step": 0.05,
       "style": "IPY_MODEL_ee20b597f9b946fd9ea4d321a4001ece",
       "value": 2.15
      }
     },
     "dac53e2cba514b769e43842ae9a04ae9": {
      "model_module": "@jupyter-widgets/base",
      "model_module_version": "1.2.0",
      "model_name": "LayoutModel",
      "state": {
       "min_width": "50%"
      }
     },
     "e85fd9599e174a468e7f7ea146d8e882": {
      "model_module": "@jupyter-widgets/base",
      "model_module_version": "1.2.0",
      "model_name": "LayoutModel",
      "state": {
       "min_width": "50%"
      }
     },
     "eb322b0e89a9479f8f170a861e7fbc68": {
      "model_module": "@jupyter-widgets/base",
      "model_module_version": "1.2.0",
      "model_name": "LayoutModel",
      "state": {
       "min_width": "50%"
      }
     },
     "ecc3eb4a3373434493c2ab5481e29ff8": {
      "model_module": "@jupyter-widgets/controls",
      "model_module_version": "1.5.0",
      "model_name": "SliderStyleModel",
      "state": {
       "description_width": "initial"
      }
     },
     "ee20b597f9b946fd9ea4d321a4001ece": {
      "model_module": "@jupyter-widgets/controls",
      "model_module_version": "1.5.0",
      "model_name": "SliderStyleModel",
      "state": {
       "description_width": "initial"
      }
     },
     "efd211d76c534a51ac413064b450ae4e": {
      "model_module": "@jupyter-widgets/controls",
      "model_module_version": "1.5.0",
      "model_name": "FloatSliderModel",
      "state": {
       "description": "Mnożnik straconych u siebie bramek przez Stal",
       "layout": "IPY_MODEL_dac53e2cba514b769e43842ae9a04ae9",
       "max": 3.5,
       "min": 0.5,
       "step": 0.05,
       "style": "IPY_MODEL_cae7d0521f0e48b8b3906e942dffe9dd",
       "value": 2.8
      }
     },
     "f0b46e0655414c51948ab0ec7c466211": {
      "model_module": "@jupyter-widgets/controls",
      "model_module_version": "1.5.0",
      "model_name": "FloatSliderModel",
      "state": {
       "description": "Mnożnik straconych u siebie bramek przez Podbeskidzie",
       "layout": "IPY_MODEL_f0c0c2764b8e4e34bafc13c8e0a30ce7",
       "max": 3.5,
       "min": 0.5,
       "step": 0.05,
       "style": "IPY_MODEL_350bcc1f71bf43b591fb2936524f3adb",
       "value": 2.8
      }
     },
     "f0c0c2764b8e4e34bafc13c8e0a30ce7": {
      "model_module": "@jupyter-widgets/base",
      "model_module_version": "1.2.0",
      "model_name": "LayoutModel",
      "state": {
       "min_width": "50%"
      }
     },
     "f2e237ec80424174b19ff258ada1106a": {
      "model_module": "@jupyter-widgets/controls",
      "model_module_version": "1.5.0",
      "model_name": "SliderStyleModel",
      "state": {
       "description_width": "initial"
      }
     },
     "f79900d8287d4952aff0590b0dc046c5": {
      "model_module": "@jupyter-widgets/controls",
      "model_module_version": "1.5.0",
      "model_name": "SliderStyleModel",
      "state": {
       "description_width": "initial"
      }
     },
     "f80c17783100491580679b0397299014": {
      "model_module": "@jupyter-widgets/controls",
      "model_module_version": "1.5.0",
      "model_name": "SliderStyleModel",
      "state": {
       "description_width": "initial"
      }
     }
    },
    "version_major": 2,
    "version_minor": 0
   }
  }
 },
 "nbformat": 4,
 "nbformat_minor": 2
}
