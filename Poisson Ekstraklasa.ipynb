{
 "cells": [
  {
   "cell_type": "markdown",
   "metadata": {},
   "source": [
    "# EkstraModel"
   ]
  },
  {
   "cell_type": "code",
   "execution_count": 8,
   "metadata": {},
   "outputs": [
    {
     "data": {
      "text/html": [
       "<script>\n",
       "code_show=true; \n",
       "function code_toggle() {\n",
       " if (code_show){\n",
       " $('div.input').hide();\n",
       " } else {\n",
       " $('div.input').show();\n",
       " }\n",
       " code_show = !code_show\n",
       "} \n",
       "$( document ).ready(code_toggle);\n",
       "</script>\n",
       "<a href=\"javascript:code_toggle()\">Wyświetl kod</a>"
      ],
      "text/plain": [
       "<IPython.core.display.HTML object>"
      ]
     },
     "execution_count": 8,
     "metadata": {},
     "output_type": "execute_result"
    }
   ],
   "source": [
    "from IPython.display import HTML\n",
    "HTML('''<script>\n",
    "code_show=true; \n",
    "function code_toggle() {\n",
    " if (code_show){\n",
    " $('div.input').hide();\n",
    " } else {\n",
    " $('div.input').show();\n",
    " }\n",
    " code_show = !code_show\n",
    "} \n",
    "$( document ).ready(code_toggle);\n",
    "</script>\n",
    "<a href=\"javascript:code_toggle()\">Wyświetl kod</a>''')"
   ]
  },
  {
   "cell_type": "code",
   "execution_count": 9,
   "metadata": {},
   "outputs": [],
   "source": [
    "import ipywidgets as widgets\n",
    "from ipywidgets import Layout\n",
    "\n",
    "style = {'description_width': 'initial'}\n",
    "\n",
    "pbb_strzelone_dom = widgets.FloatSlider(value=1.10, min=0.35, max=2,step=0.05,description='Mnożnik strzelonych u siebie bramek przez Podbeskidzie',disabled=False, style=style, layout=Layout(min_width='50%'))\n",
    "stal_strzelone_dom = widgets.FloatSlider(value=0.85, min=0.35, max=2,step=0.05,description='Mnożnik strzelonych u siebie bramek przez Stal',disabled=False, style=style, layout=Layout(min_width='50%'))\n",
    "warta_strzelone_dom = widgets.FloatSlider(value=0.7, min=0.35, max=2,step=0.05,description='Mnożnik strzelonych u siebie bramek przez Wartę',disabled=False, style=style, layout=Layout(min_width='50%'))\n",
    "\n",
    "pbb_strzelone_wyjazd = widgets.FloatSlider(value=0.90, min=0.35, max=2,step=0.05,description='Mnożnik strzelonych na wyjeździe bramek przez Podbeskidzie',disabled=False, style=style, layout=Layout(min_width='50%'))\n",
    "stal_strzelone_wyjazd = widgets.FloatSlider(value=0.90, min=0.35, max=2,step=0.05,description='Mnożnik strzelonych na wyjeździe bramek przez Stal',disabled=False, style=style, layout=Layout(min_width='50%'))\n",
    "warta_strzelone_wyjazd = widgets.FloatSlider(value=0.90, min=0.35, max=2,step=0.05,description='Mnożnik strzelonych na wyjeździe bramek przez Wartę',disabled=False, style=style, layout=Layout(min_width='50%'))\n",
    "\n",
    "pbb_stracone_dom = widgets.FloatSlider(value=2.8, min=0.5, max=3.5,step=0.05, description='Mnożnik straconych u siebie bramek przez Podbeskidzie',disabled=False, style=style, layout=Layout(min_width='50%'))\n",
    "stal_stracone_dom = widgets.FloatSlider(value=2.8, min=0.5, max=3.5,step=0.05,description='Mnożnik straconych u siebie bramek przez Stal',disabled=False, style=style, layout=Layout(min_width='50%'))\n",
    "warta_stracone_dom = widgets.FloatSlider(value=2.8, min=0.5, max=3.5,step=0.05,description='Mnożnik straconych u siebie bramek przez Wartę',disabled=False, style=style, layout=Layout(min_width='50%'))\n",
    "\n",
    "pbb_stracone_wyjazd = widgets.FloatSlider(value=2.15, min=0.5, max=3.5,step=0.05,description='Mnożnik straconych na wyjeździe bramek przez Podbeskidzie',disabled=False, style=style, layout=Layout(min_width='50%'))\n",
    "stal_stracone_wyjazd = widgets.FloatSlider(value=2.15, min=0.5, max=3.5,step=0.05,description='Mnożnik straconych na wyjeździe bramek przez Stal',disabled=False, style=style, layout=Layout(min_width='50%'))\n",
    "warta_stracone_wyjazd = widgets.FloatSlider(value=2.15, min=0.5, max=3.5,step=0.05,description='Mnożnik straconych na wyjeździe bramek przez Wartę',disabled=False, style=style, layout=Layout(min_width='50%'))"
   ]
  },
  {
   "cell_type": "code",
   "execution_count": 10,
   "metadata": {
    "scrolled": false
   },
   "outputs": [
    {
     "data": {
      "application/vnd.jupyter.widget-view+json": {
       "model_id": "5a61817ab18e4799a464c0a2c8c65ff3",
       "version_major": 2,
       "version_minor": 0
      },
      "text/plain": [
       "FloatLogSlider(value=10000.0, description='Liczba symulacji', max=10.0, min=1.0, step=1.0, style=SliderStyle(d…"
      ]
     },
     "metadata": {},
     "output_type": "display_data"
    },
    {
     "data": {
      "application/vnd.jupyter.widget-view+json": {
       "model_id": "16b886a968544c3ca1f1c06752106a16",
       "version_major": 2,
       "version_minor": 0
      },
      "text/plain": [
       "BoundedIntText(value=1, description='Wybierz kolejkę:', max=30, min=1, style=DescriptionStyle(description_widt…"
      ]
     },
     "metadata": {},
     "output_type": "display_data"
    },
    {
     "data": {
      "application/vnd.jupyter.widget-view+json": {
       "model_id": "9c1de144645b42969b4b5260e1b4c005",
       "version_major": 2,
       "version_minor": 0
      },
      "text/plain": [
       "FloatSlider(value=1.1, description='Mnożnik strzelonych u siebie bramek przez Podbeskidzie', layout=Layout(min…"
      ]
     },
     "metadata": {},
     "output_type": "display_data"
    },
    {
     "data": {
      "application/vnd.jupyter.widget-view+json": {
       "model_id": "736551ec8dc9403a99a47b2b818d0d45",
       "version_major": 2,
       "version_minor": 0
      },
      "text/plain": [
       "FloatSlider(value=0.85, description='Mnożnik strzelonych u siebie bramek przez Stal', layout=Layout(min_width=…"
      ]
     },
     "metadata": {},
     "output_type": "display_data"
    },
    {
     "data": {
      "application/vnd.jupyter.widget-view+json": {
       "model_id": "897cdede25444cccbe22078b65cf9d7e",
       "version_major": 2,
       "version_minor": 0
      },
      "text/plain": [
       "FloatSlider(value=0.7, description='Mnożnik strzelonych u siebie bramek przez Wartę', layout=Layout(min_width=…"
      ]
     },
     "metadata": {},
     "output_type": "display_data"
    },
    {
     "data": {
      "application/vnd.jupyter.widget-view+json": {
       "model_id": "2b38ff28dec4494986184d411665dcd0",
       "version_major": 2,
       "version_minor": 0
      },
      "text/plain": [
       "FloatSlider(value=0.9, description='Mnożnik strzelonych na wyjeździe bramek przez Podbeskidzie', layout=Layout…"
      ]
     },
     "metadata": {},
     "output_type": "display_data"
    },
    {
     "data": {
      "application/vnd.jupyter.widget-view+json": {
       "model_id": "479a3a7e87554e78b17cbcae47e81d50",
       "version_major": 2,
       "version_minor": 0
      },
      "text/plain": [
       "FloatSlider(value=0.9, description='Mnożnik strzelonych na wyjeździe bramek przez Stal', layout=Layout(min_wid…"
      ]
     },
     "metadata": {},
     "output_type": "display_data"
    },
    {
     "data": {
      "application/vnd.jupyter.widget-view+json": {
       "model_id": "9a61ea6c04cd4420a6d9dc9bfc3bd769",
       "version_major": 2,
       "version_minor": 0
      },
      "text/plain": [
       "FloatSlider(value=0.9, description='Mnożnik strzelonych na wyjeździe bramek przez Wartę', layout=Layout(min_wi…"
      ]
     },
     "metadata": {},
     "output_type": "display_data"
    },
    {
     "data": {
      "application/vnd.jupyter.widget-view+json": {
       "model_id": "da586c71f3174b5cb01e7b662e2abd66",
       "version_major": 2,
       "version_minor": 0
      },
      "text/plain": [
       "FloatSlider(value=2.8, description='Mnożnik straconych u siebie bramek przez Podbeskidzie', layout=Layout(min_…"
      ]
     },
     "metadata": {},
     "output_type": "display_data"
    },
    {
     "data": {
      "application/vnd.jupyter.widget-view+json": {
       "model_id": "b887c14a7db64db4bf0801b4fa180b5d",
       "version_major": 2,
       "version_minor": 0
      },
      "text/plain": [
       "FloatSlider(value=2.8, description='Mnożnik straconych u siebie bramek przez Stal', layout=Layout(min_width='5…"
      ]
     },
     "metadata": {},
     "output_type": "display_data"
    },
    {
     "data": {
      "application/vnd.jupyter.widget-view+json": {
       "model_id": "c4f630d18eec4b398d74180c8e3c52a5",
       "version_major": 2,
       "version_minor": 0
      },
      "text/plain": [
       "FloatSlider(value=2.8, description='Mnożnik straconych u siebie bramek przez Wartę', layout=Layout(min_width='…"
      ]
     },
     "metadata": {},
     "output_type": "display_data"
    },
    {
     "data": {
      "application/vnd.jupyter.widget-view+json": {
       "model_id": "a3da6d6931b342bbaad0377e2c14bfc8",
       "version_major": 2,
       "version_minor": 0
      },
      "text/plain": [
       "FloatSlider(value=2.15, description='Mnożnik straconych na wyjeździe bramek przez Podbeskidzie', layout=Layout…"
      ]
     },
     "metadata": {},
     "output_type": "display_data"
    },
    {
     "data": {
      "application/vnd.jupyter.widget-view+json": {
       "model_id": "e1df732c1413414b96cb0cee5aaf1f27",
       "version_major": 2,
       "version_minor": 0
      },
      "text/plain": [
       "FloatSlider(value=2.15, description='Mnożnik straconych na wyjeździe bramek przez Stal', layout=Layout(min_wid…"
      ]
     },
     "metadata": {},
     "output_type": "display_data"
    },
    {
     "data": {
      "application/vnd.jupyter.widget-view+json": {
       "model_id": "c2887f8a217f4c968de63d3095871e2c",
       "version_major": 2,
       "version_minor": 0
      },
      "text/plain": [
       "FloatSlider(value=2.15, description='Mnożnik straconych na wyjeździe bramek przez Wartę', layout=Layout(min_wi…"
      ]
     },
     "metadata": {},
     "output_type": "display_data"
    },
    {
     "data": {
      "application/vnd.jupyter.widget-view+json": {
       "model_id": "5a41676fc71748b48a052b9da5d63b02",
       "version_major": 2,
       "version_minor": 0
      },
      "text/plain": [
       "Button(description='Zatwierdź', icon='check', style=ButtonStyle(), tooltip='Confirm')"
      ]
     },
     "metadata": {},
     "output_type": "display_data"
    },
    {
     "data": {
      "application/vnd.jupyter.widget-view+json": {
       "model_id": "15d93dfcfa49470e971236f71250e608",
       "version_major": 2,
       "version_minor": 0
      },
      "text/plain": [
       "Output()"
      ]
     },
     "metadata": {},
     "output_type": "display_data"
    }
   ],
   "source": [
    "n = widgets.FloatLogSlider(value=10000, base=10, min=1, max=10, step=1, description='Liczba symulacji', style=style)\n",
    "kolejka = widgets.BoundedIntText(value=1, min=1, max=30, step=1, description='Wybierz kolejkę:', disabled=False, style=style)\n",
    "\n",
    "display(n)\n",
    "display(kolejka)\n",
    "\n",
    "display(pbb_strzelone_dom)\n",
    "display(stal_strzelone_dom)\n",
    "display(warta_strzelone_dom)\n",
    "display(pbb_strzelone_wyjazd)\n",
    "display(stal_strzelone_wyjazd)\n",
    "display(warta_strzelone_wyjazd)\n",
    "display(pbb_stracone_dom)\n",
    "display(stal_stracone_dom)\n",
    "display(warta_stracone_dom)\n",
    "display(pbb_stracone_wyjazd)\n",
    "display(stal_stracone_wyjazd)\n",
    "display(warta_stracone_wyjazd)\n",
    "\n",
    "button = widgets.Button(description='Zatwierdź',disabled=False,tooltip='Confirm',icon='check') \n",
    "output = widgets.Output()\n",
    "display(button,output)"
   ]
  },
  {
   "cell_type": "code",
   "execution_count": 11,
   "metadata": {},
   "outputs": [],
   "source": [
    "mecze_liga = 8*19+8*18\n",
    "avg_strzelone_dom_liga = (48+25+36+40+30+37+26+36+27+25+25+20+18+21+14+21)/mecze_liga\n",
    "avg_strzelone_wyjazd_liga = (30+28+22+19+23+16+18+25+23+14+19+21+15+18+15+12)/mecze_liga"
   ]
  },
  {
   "cell_type": "code",
   "execution_count": 12,
   "metadata": {},
   "outputs": [],
   "source": [
    "def initialize():\n",
    "    global avg_strzelone_dom\n",
    "    global avg_strzelone_wyjazd\n",
    "    global avg_stracone_dom\n",
    "    global avg_stracone_wyjazd\n",
    "    \n",
    "    avg_strzelone_dom ={\n",
    "    'Legia': 2.53,\n",
    "    'Lech': 2.11,\n",
    "    'Piast': 1.32,\n",
    "    'Górnik': 1.89,\n",
    "    'Zagłębie': 1.89,\n",
    "    'Cracovia': 1.44,\n",
    "    'Lechia': 1.11,\n",
    "    'Stal': 1.65*stal_strzelone_dom.value,\n",
    "    'Podbeskidzie': 2.47*pbb_strzelone_dom.value,\n",
    "    'Płock': 1.42,\n",
    "    'Wisła': 1.39,\n",
    "    'Warta': 1.71*warta_strzelone_dom.value,\n",
    "    'Jagiellonia': 1.39,\n",
    "    'Pogoń': 1.00,\n",
    "    'Raków': 1.58,\n",
    "    'Śląsk': 1.95\n",
    "    }\n",
    "    avg_strzelone_wyjazd ={\n",
    "    'Legia': 1.22,\n",
    "    'Lech': 1.67,\n",
    "    'Piast': 0.89,\n",
    "    'Górnik': 0.83,\n",
    "    'Zagłębie': 1.39,\n",
    "    'Cracovia': 1.21,\n",
    "    'Lechia': 1.47,\n",
    "    'Stal': 1.71*stal_strzelone_wyjazd.value,\n",
    "    'Podbeskidzie': 1.29*pbb_strzelone_wyjazd.value,\n",
    "    'Płock': 1.00,\n",
    "    'Wisła': 1.00,\n",
    "    'Warta': 1.35*warta_strzelone_wyjazd.value,\n",
    "    'Jagiellonia': 1.21,\n",
    "    'Pogoń': 1.00,\n",
    "    'Raków': 1.17,\n",
    "    'Śląsk': 0.78\n",
    "    }\n",
    "    avg_stracone_dom ={\n",
    "    'Legia': 0.84,\n",
    "    'Lech': 0.74,\n",
    "    'Piast': 0.63,\n",
    "    'Górnik': 1.05,\n",
    "    'Zagłębie': 1.26,\n",
    "    'Cracovia': 0.89,\n",
    "    'Lechia': 1.22,\n",
    "    'Stal': 0.76*stal_stracone_dom.value,\n",
    "    'Podbeskidzie': 1.06*pbb_stracone_dom.value,\n",
    "    'Płock': 1.21,\n",
    "    'Wisła': 1.00,\n",
    "    'Warta': 1.12*warta_stracone_dom.value,\n",
    "    'Jagiellonia': 1.00,\n",
    "    'Pogoń': 0.94,\n",
    "    'Raków': 1.16,\n",
    "    'Śląsk': 1.47\n",
    "    }\n",
    "    avg_stracone_wyjazd ={\n",
    "    'Legia': 1.06,\n",
    "    'Lech': 1.17,\n",
    "    'Piast': 1.11,\n",
    "    'Górnik': 1.50,\n",
    "    'Zagłębie': 1.61,\n",
    "    'Cracovia': 1.26,\n",
    "    'Lechia': 1.47,\n",
    "    'Stal': 1.06*stal_stracone_wyjazd.value,\n",
    "    'Podbeskidzie': 1.00*pbb_stracone_wyjazd.value,\n",
    "    'Płock': 1.72,\n",
    "    'Wisła': 2.00,\n",
    "    'Warta': 0.94*warta_stracone_wyjazd.value,\n",
    "    'Jagiellonia': 1.74,\n",
    "    'Pogoń': 1.16,\n",
    "    'Raków': 1.89,\n",
    "    'Śląsk': 1.00\n",
    "    }\n",
    "\n",
    "    global home_attack_strength\n",
    "    home_attack_strength = {}\n",
    "    global home_defence_strength\n",
    "    home_defence_strength = {}\n",
    "    global away_attack_strength\n",
    "    away_attack_strength = {}\n",
    "    global away_defence_strength\n",
    "    away_defence_strength = {}\n",
    "\n",
    "    for k in avg_strzelone_dom.keys():\n",
    "        home_attack_strength[k] = avg_strzelone_dom[k]/avg_strzelone_dom_liga\n",
    "        home_defence_strength[k] = avg_stracone_dom[k]/avg_strzelone_wyjazd_liga\n",
    "        away_attack_strength[k] = avg_strzelone_wyjazd[k]/avg_strzelone_wyjazd_liga\n",
    "        away_defence_strength[k] = avg_stracone_wyjazd[k]/avg_strzelone_dom_liga\n",
    "        \n",
    "    #print(avg_strzelone_dom.keys())\n",
    "    #print(home_attack_strength)\n",
    "    #print(home_defence_strength)\n",
    "    #print(away_attack_strength)\n",
    "    #print(away_defence_strength)"
   ]
  },
  {
   "cell_type": "code",
   "execution_count": 13,
   "metadata": {},
   "outputs": [],
   "source": [
    "import numpy as np\n",
    "from collections import Counter\n",
    "\n",
    "def display_matchday(a):\n",
    "    f = open(\"Kolejki/\"+str(a), \"r\", encoding='utf-8')\n",
    "    for x in f:\n",
    "        home_team = x.strip().split(\"-\")[0]\n",
    "        away_team = x.strip().split(\"-\")[1]\n",
    "        rng = np.random.default_rng()\n",
    "        results = []\n",
    "        home = home_attack_strength[home_team]*away_defence_strength[away_team]*avg_strzelone_dom_liga\n",
    "        away = home_defence_strength[home_team]*away_attack_strength[away_team]*avg_strzelone_wyjazd_liga\n",
    "        print(home_team, \"vs\", away_team)\n",
    "        print(\"Siła:\", home, away)\n",
    "        for i in range(0,int(n.value)):\n",
    "            results.append((rng.poisson(home, 1)[0],rng.poisson(away, 1)[0]))\n",
    "        print(\"Prawdopodobieństwo czystego konta gospodarza:\", sum(x[1]==0 for x in results)/n.value)\n",
    "        print(\"Prawdopodobieństwo czystego konta gościa:\", sum(x[0]==0 for x in results)/n.value)\n",
    "        \n",
    "        print(\"Najbardziej prawdopodobne wyniki:\\n\",Counter(results).most_common(7),\"\\n\\n\\n\")\n",
    "    f.close()"
   ]
  },
  {
   "cell_type": "code",
   "execution_count": 14,
   "metadata": {},
   "outputs": [],
   "source": [
    "def on_confirm_button_clicked(b):\n",
    "    initialize()\n",
    "    with output:\n",
    "        display_matchday(kolejka.value)\n",
    "    \n",
    "button.on_click(on_confirm_button_clicked)"
   ]
  }
 ],
 "metadata": {
  "kernelspec": {
   "display_name": "Python 3",
   "language": "python",
   "name": "python3"
  },
  "language_info": {
   "codemirror_mode": {
    "name": "ipython",
    "version": 3
   },
   "file_extension": ".py",
   "mimetype": "text/x-python",
   "name": "python",
   "nbconvert_exporter": "python",
   "pygments_lexer": "ipython3",
   "version": "3.6.10"
  }
 },
 "nbformat": 4,
 "nbformat_minor": 2
}
